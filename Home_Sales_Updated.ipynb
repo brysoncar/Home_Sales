{
  "cells": [
    {
      "cell_type": "markdown",
      "metadata": {
        "id": "view-in-github",
        "colab_type": "text"
      },
      "source": [
        "<a href=\"https://colab.research.google.com/github/brysoncar/Home_Sales/blob/main/Home_Sales_Updated.ipynb\" target=\"_parent\"><img src=\"https://colab.research.google.com/assets/colab-badge.svg\" alt=\"Open In Colab\"/></a>"
      ]
    },
    {
      "cell_type": "code",
      "execution_count": 2,
      "metadata": {
        "id": "5yhp23fZA5Ob",
        "colab": {
          "base_uri": "https://localhost:8080/"
        },
        "outputId": "6411b52f-d508-4791-c348-43b30c79fb5b"
      },
      "outputs": [
        {
          "output_type": "stream",
          "name": "stdout",
          "text": [
            "Collecting pyspark\n",
            "  Downloading pyspark-3.5.0.tar.gz (316.9 MB)\n",
            "\u001b[2K     \u001b[90m━━━━━━━━━━━━━━━━━━━━━━━━━━━━━━━━━━━━━━━━\u001b[0m \u001b[32m316.9/316.9 MB\u001b[0m \u001b[31m2.8 MB/s\u001b[0m eta \u001b[36m0:00:00\u001b[0m\n",
            "\u001b[?25h  Preparing metadata (setup.py) ... \u001b[?25l\u001b[?25hdone\n",
            "Requirement already satisfied: py4j==0.10.9.7 in /usr/local/lib/python3.10/dist-packages (from pyspark) (0.10.9.7)\n",
            "Building wheels for collected packages: pyspark\n",
            "  Building wheel for pyspark (setup.py) ... \u001b[?25l\u001b[?25hdone\n",
            "  Created wheel for pyspark: filename=pyspark-3.5.0-py2.py3-none-any.whl size=317425345 sha256=c133a5fa7d280b625ebd90b9f65eab9c00d520456b8b8a8d97c30dec1da81587\n",
            "  Stored in directory: /root/.cache/pip/wheels/41/4e/10/c2cf2467f71c678cfc8a6b9ac9241e5e44a01940da8fbb17fc\n",
            "Successfully built pyspark\n",
            "Installing collected packages: pyspark\n",
            "Successfully installed pyspark-3.5.0\n"
          ]
        }
      ],
      "source": [
        "pip install pyspark"
      ]
    },
    {
      "cell_type": "code",
      "source": [
        "pip install findspark"
      ],
      "metadata": {
        "colab": {
          "base_uri": "https://localhost:8080/"
        },
        "id": "KilfWNSdjw6P",
        "outputId": "ea50890d-71fd-4221-a82d-eb2828c7ea19"
      },
      "execution_count": 3,
      "outputs": [
        {
          "output_type": "stream",
          "name": "stdout",
          "text": [
            "Collecting findspark\n",
            "  Downloading findspark-2.0.1-py2.py3-none-any.whl (4.4 kB)\n",
            "Installing collected packages: findspark\n",
            "Successfully installed findspark-2.0.1\n"
          ]
        }
      ]
    },
    {
      "cell_type": "code",
      "source": [
        "# Import findspark and initialize.\n",
        "import findspark\n",
        "findspark.init()"
      ],
      "metadata": {
        "id": "iHm919BljwX5"
      },
      "execution_count": 4,
      "outputs": []
    },
    {
      "cell_type": "code",
      "execution_count": 5,
      "metadata": {
        "id": "R0t1msGMcMGv"
      },
      "outputs": [],
      "source": [
        "# Import packages\n",
        "from pyspark.sql import SparkSession\n",
        "import time\n",
        "\n",
        "# Create a SparkSession\n",
        "spark = SparkSession.builder.appName(\"SparkSQL\").getOrCreate()"
      ]
    },
    {
      "cell_type": "code",
      "execution_count": 6,
      "metadata": {
        "id": "LBS4ScvxcM6v",
        "colab": {
          "base_uri": "https://localhost:8080/"
        },
        "outputId": "43b2e639-f04a-42f3-a94e-6906180871b0"
      },
      "outputs": [
        {
          "output_type": "stream",
          "name": "stdout",
          "text": [
            "+--------------------+----------+----------+------+--------+---------+-----------+--------+------+----------+----+\n",
            "|                  id|      date|date_built| price|bedrooms|bathrooms|sqft_living|sqft_lot|floors|waterfront|view|\n",
            "+--------------------+----------+----------+------+--------+---------+-----------+--------+------+----------+----+\n",
            "|f8a53099-ba1c-47d...|2022-04-08|      2016|936923|       4|        3|       3167|   11733|     2|         1|  76|\n",
            "|7530a2d8-1ae3-451...|2021-06-13|      2013|379628|       2|        2|       2235|   14384|     1|         0|  23|\n",
            "|43de979c-0bf0-4c9...|2019-04-12|      2014|417866|       2|        2|       2127|   10575|     2|         0|   0|\n",
            "|b672c137-b88c-48b...|2019-10-16|      2016|239895|       2|        2|       1631|   11149|     2|         0|   0|\n",
            "|e0726d4d-d595-407...|2022-01-08|      2017|424418|       3|        2|       2249|   13878|     2|         0|   4|\n",
            "|5aa00529-0533-46b...|2019-01-30|      2017|218712|       2|        3|       1965|   14375|     2|         0|   7|\n",
            "|131492a1-72e2-4a8...|2020-02-08|      2017|419199|       2|        3|       2062|    8876|     2|         0|   6|\n",
            "|8d54a71b-c520-44e...|2019-07-21|      2010|323956|       2|        3|       1506|   11816|     1|         0|  25|\n",
            "|e81aacfe-17fe-46b...|2020-06-16|      2016|181925|       3|        3|       2137|   11709|     2|         0|  22|\n",
            "|2ed8d509-7372-46d...|2021-08-06|      2015|258710|       3|        3|       1918|    9666|     1|         0|  25|\n",
            "|f876d86f-3c9f-42b...|2019-02-27|      2011|167864|       3|        3|       2471|   13924|     2|         0|  15|\n",
            "|0a2bd445-8508-4d8...|2021-12-30|      2014|337527|       2|        3|       1926|   12556|     1|         0|  23|\n",
            "|941bad30-eb49-4a7...|2020-05-09|      2015|229896|       3|        3|       2197|    8641|     1|         0|   3|\n",
            "|dd61eb34-6589-4c0...|2021-07-25|      2016|210247|       3|        2|       1672|   11986|     2|         0|  28|\n",
            "|f1e4cef7-d151-439...|2019-02-01|      2011|398667|       2|        3|       2331|   11356|     1|         0|   7|\n",
            "|ea620c7b-c2f7-4c6...|2021-05-31|      2011|437958|       3|        3|       2356|   11052|     1|         0|  26|\n",
            "|f233cb41-6f33-4b0...|2021-07-18|      2016|437375|       4|        3|       1704|   11721|     2|         0|  34|\n",
            "|c797ca12-52cd-4b1...|2019-06-08|      2015|288650|       2|        3|       2100|   10419|     2|         0|   7|\n",
            "|0cfe57f3-28c2-472...|2019-10-04|      2015|308313|       3|        3|       1960|    9453|     2|         0|   2|\n",
            "|4566cd2a-ac6e-435...|2019-07-15|      2016|177541|       3|        3|       2130|   10517|     2|         0|  25|\n",
            "+--------------------+----------+----------+------+--------+---------+-----------+--------+------+----------+----+\n",
            "only showing top 20 rows\n",
            "\n"
          ]
        }
      ],
      "source": [
        "# 1. Read in the AWS S3 bucket into a DataFrame.\n",
        "from pyspark import SparkFiles\n",
        "url = \"https://2u-data-curriculum-team.s3.amazonaws.com/dataviz-classroom/v1.2/22-big-data/home_sales_revised.csv\"\n",
        "\n",
        "spark.sparkContext.addFile(url)\n",
        "\n",
        "home_sales_df = spark.read.option(\"header\", \"true\").csv(SparkFiles.get(\"home_sales_revised.csv\"), inferSchema=True, sep=',')\n",
        "\n",
        "home_sales_df.show()"
      ]
    },
    {
      "cell_type": "code",
      "execution_count": 7,
      "metadata": {
        "id": "sBpGSR3vBVim"
      },
      "outputs": [],
      "source": [
        "# 2. Create a temporary view of the DataFrame.\n",
        "home_sales_df.createOrReplaceTempView(\"home_sales\")"
      ]
    },
    {
      "cell_type": "code",
      "source": [
        "# 3. What is the average price for a four bedroom house sold in each year rounded to two decimal places?\n",
        "\n",
        "from pyspark.sql.functions import avg, round\n",
        "\n",
        "# Filter the DataFrame to include only four-bedroom houses\n",
        "four_bedroom_df = home_sales_df.filter(home_sales_df['bedrooms'] == 4)\n",
        "\n",
        "# Group the filtered DataFrame by date_built and calculate the average price\n",
        "average_price_per_year = four_bedroom_df.groupBy('date_built').agg(round(avg('price'), 2).alias('average_price'))\n",
        "\n",
        "# Display the result\n",
        "average_price_per_year.show()\n"
      ],
      "metadata": {
        "id": "urZKSGUElg5X",
        "colab": {
          "base_uri": "https://localhost:8080/"
        },
        "outputId": "fdf65fbe-8985-4bbe-dd54-1461800f62cb"
      },
      "execution_count": 8,
      "outputs": [
        {
          "output_type": "stream",
          "name": "stdout",
          "text": [
            "+----------+-------------+\n",
            "|date_built|average_price|\n",
            "+----------+-------------+\n",
            "|      2015|    307908.86|\n",
            "|      2013|    299999.39|\n",
            "|      2014|    299073.89|\n",
            "|      2012|    298233.42|\n",
            "|      2016|    296050.24|\n",
            "|      2010|    296800.75|\n",
            "|      2011|     302141.9|\n",
            "|      2017|    296576.69|\n",
            "+----------+-------------+\n",
            "\n"
          ]
        }
      ]
    },
    {
      "cell_type": "code",
      "source": [
        "# 4. What is the average price of a home for each year the home was built that have 3 bedrooms and 3 bathrooms rounded to two decimal places?\n",
        "\n",
        "# Filter the DataFrame to include only homes with 3 bedrooms and 3 bathrooms\n",
        "three_bedroom_three_bathroom_df = home_sales_df.filter((home_sales_df['bedrooms'] == 3) & (home_sales_df['bathrooms'] == 3))\n",
        "\n",
        "# Group the filtered DataFrame by date_built and calculate the average price\n",
        "average_price_per_year = three_bedroom_three_bathroom_df.groupBy('date_built').agg(round(avg('price'), 2).alias('average_price'))\n",
        "\n",
        "# Display the result\n",
        "average_price_per_year.show()\n",
        "\n"
      ],
      "metadata": {
        "id": "rKAvwSlfloWq",
        "colab": {
          "base_uri": "https://localhost:8080/"
        },
        "outputId": "b74cefaf-ba09-491d-cf33-62ae54a5a3cb"
      },
      "execution_count": 9,
      "outputs": [
        {
          "output_type": "stream",
          "name": "stdout",
          "text": [
            "+----------+-------------+\n",
            "|date_built|average_price|\n",
            "+----------+-------------+\n",
            "|      2015|     288770.3|\n",
            "|      2013|    295962.27|\n",
            "|      2014|    290852.27|\n",
            "|      2012|    293683.19|\n",
            "|      2016|    290555.07|\n",
            "|      2010|    292859.62|\n",
            "|      2011|    291117.47|\n",
            "|      2017|    292676.79|\n",
            "+----------+-------------+\n",
            "\n"
          ]
        }
      ]
    },
    {
      "cell_type": "code",
      "source": [
        "#  5. What is the average price of a home for each year built that have 3 bedrooms, 3 bathrooms, with two floors,\n",
        "# and are greater than or equal to 2,000 square feet rounded to two decimal places?\n",
        "\n",
        "# Filter the DataFrame to include only homes with specified criteria\n",
        "filtered_df = home_sales_df.filter((home_sales_df['bedrooms'] == 3) &\n",
        "                                   (home_sales_df['bathrooms'] == 3) &\n",
        "                                   (home_sales_df['floors'] == 2) &\n",
        "                                   (home_sales_df['sqft_living'] >= 2000))\n",
        "\n",
        "# Group the filtered DataFrame by date_built and calculate the average price\n",
        "average_price_per_year = filtered_df.groupBy('date_built').agg(round(avg('price'), 2).alias('average_price'))\n",
        "\n",
        "# Display the result\n",
        "average_price_per_year.show()\n"
      ],
      "metadata": {
        "id": "pNM-ZVa3lp5u",
        "colab": {
          "base_uri": "https://localhost:8080/"
        },
        "outputId": "edac7deb-127b-4c4a-9e82-a792d3ec12c4"
      },
      "execution_count": 10,
      "outputs": [
        {
          "output_type": "stream",
          "name": "stdout",
          "text": [
            "+----------+-------------+\n",
            "|date_built|average_price|\n",
            "+----------+-------------+\n",
            "|      2015|    297609.97|\n",
            "|      2013|    303676.79|\n",
            "|      2014|    298264.72|\n",
            "|      2012|    307539.97|\n",
            "|      2016|     293965.1|\n",
            "|      2010|    285010.22|\n",
            "|      2011|    276553.81|\n",
            "|      2017|    280317.58|\n",
            "+----------+-------------+\n",
            "\n"
          ]
        }
      ]
    },
    {
      "cell_type": "code",
      "source": [
        "# 6. What is the \"view\" rating for the average price of a home, rounded to two decimal places, where the homes are greater than\n",
        "# or equal to $350,000? Although this is a small dataset, determine the run time for this query.\n",
        "\n",
        "start_time = time.time()\n",
        "\n",
        "from pyspark.sql.functions import avg, round\n",
        "\n",
        "# Filter the DataFrame to include only expensive homes (price >= $350,000)\n",
        "expensive_homes_df = home_sales_df.filter(home_sales_df['price'] >= 350000)\n",
        "\n",
        "# Find the average price of expensive homes\n",
        "average_price_expensive_homes = expensive_homes_df.groupBy('date_built').agg(round(avg('price'), 2).alias('average_price'))\n",
        "\n",
        "# Find the \"view\" rating for the average price of expensive homes\n",
        "view_rating_for_average_price = average_price_expensive_homes.select(round(avg('average_price'), 2).alias('view_rating'))\n",
        "\n",
        "# Display the result\n",
        "view_rating_for_average_price.show()\n",
        "\n",
        "\n",
        "print(\"--- %s seconds ---\" % (time.time() - start_time))"
      ],
      "metadata": {
        "id": "IpXa11FIlrLu",
        "colab": {
          "base_uri": "https://localhost:8080/"
        },
        "outputId": "254b96b7-009e-4ee6-85af-1814bc4b1a42"
      },
      "execution_count": 11,
      "outputs": [
        {
          "output_type": "stream",
          "name": "stdout",
          "text": [
            "+-----------+\n",
            "|view_rating|\n",
            "+-----------+\n",
            "|  473769.11|\n",
            "+-----------+\n",
            "\n",
            "--- 2.6865928173065186 seconds ---\n"
          ]
        }
      ]
    },
    {
      "cell_type": "code",
      "source": [
        "# Importing necessary functions\n",
        "from pyspark.sql.functions import count\n",
        "\n",
        "# Performing value count on the 'view' column\n",
        "view_counts = home_sales_df.groupBy('view').agg(count('*').alias('count'))\n",
        "\n",
        "# Displaying the result\n",
        "view_counts.show()"
      ],
      "metadata": {
        "colab": {
          "base_uri": "https://localhost:8080/"
        },
        "id": "hFAOsNdbjar9",
        "outputId": "d3488aa9-550a-4917-e27d-436f3f799f3d"
      },
      "execution_count": 12,
      "outputs": [
        {
          "output_type": "stream",
          "name": "stdout",
          "text": [
            "+----+-----+\n",
            "|view|count|\n",
            "+----+-----+\n",
            "|  31|  607|\n",
            "|  85|   39|\n",
            "|  65|   15|\n",
            "|  53|   20|\n",
            "|  78|   30|\n",
            "|  34|  652|\n",
            "|  81|   33|\n",
            "|  28|  624|\n",
            "|  76|   36|\n",
            "|  26|  662|\n",
            "|  27|  597|\n",
            "|  44|  639|\n",
            "|  12|  589|\n",
            "|  91|   41|\n",
            "|  22|  602|\n",
            "|  93|   33|\n",
            "|  47|  648|\n",
            "|   1|  645|\n",
            "|  52|   23|\n",
            "|  13|  603|\n",
            "+----+-----+\n",
            "only showing top 20 rows\n",
            "\n"
          ]
        }
      ]
    },
    {
      "cell_type": "code",
      "source": [
        "# 7. Cache the the temporary table home_sales.\n",
        "spark.catalog.cacheTable(\"home_sales\")"
      ],
      "metadata": {
        "id": "6UE-Bu8zltAV"
      },
      "execution_count": 13,
      "outputs": []
    },
    {
      "cell_type": "code",
      "source": [
        "# 8. Check if the table is cached.\n",
        "spark.catalog.isCached('home_sales')"
      ],
      "metadata": {
        "id": "SrRqy0Ztluz5",
        "colab": {
          "base_uri": "https://localhost:8080/"
        },
        "outputId": "f009f838-9d2d-4964-daed-00f94a93f35c"
      },
      "execution_count": 14,
      "outputs": [
        {
          "output_type": "execute_result",
          "data": {
            "text/plain": [
              "True"
            ]
          },
          "metadata": {},
          "execution_count": 14
        }
      ]
    },
    {
      "cell_type": "code",
      "source": [
        "# 9. Using the cached data, run the last query above, that calculates\n",
        "# the average price of a home per \"view\" rating, rounded to two decimal places,\n",
        "# having an average home price greater than or equal to $350,000.\n",
        "# Determine the runtime and compare it to the uncached runtime.\n",
        "\n",
        "start_time = time.time()\n",
        "\n",
        "from pyspark.sql.functions import avg, round\n",
        "\n",
        "# Filter the DataFrame to include only expensive homes (price >= $350,000)\n",
        "expensive_homes_df = home_sales_df.filter(home_sales_df['price'] >= 350000)\n",
        "\n",
        "# Find the average price of expensive homes per view rating\n",
        "average_price_per_view_rating = expensive_homes_df.groupBy('view').agg(round(avg('price'), 2).alias('average_price'))\n",
        "\n",
        "# Display the result\n",
        "average_price_per_view_rating.show()\n",
        "\n",
        "print(\"--- %s seconds ---\" % (time.time() - start_time))\n"
      ],
      "metadata": {
        "colab": {
          "base_uri": "https://localhost:8080/"
        },
        "id": "21kvsz3tumrI",
        "outputId": "db7150f9-f3bf-4974-b9df-74536401b775"
      },
      "execution_count": 16,
      "outputs": [
        {
          "output_type": "stream",
          "name": "stdout",
          "text": [
            "+----+-------------+\n",
            "|view|average_price|\n",
            "+----+-------------+\n",
            "|  31|    399856.95|\n",
            "|  85|   1056336.74|\n",
            "|  65|    736679.93|\n",
            "|  53|     755214.8|\n",
            "|  78|   1080649.37|\n",
            "|  34|    401419.75|\n",
            "|  81|   1053472.79|\n",
            "|  28|    402124.62|\n",
            "|  76|   1058802.78|\n",
            "|  26|    401506.97|\n",
            "|  27|    399537.66|\n",
            "|  44|    400598.05|\n",
            "|  12|    401501.32|\n",
            "|  91|   1137372.73|\n",
            "|  22|    402022.68|\n",
            "|  93|   1026006.06|\n",
            "|  47|     398447.5|\n",
            "|   1|    401044.25|\n",
            "|  52|    733780.26|\n",
            "|  13|    398917.98|\n",
            "+----+-------------+\n",
            "only showing top 20 rows\n",
            "\n",
            "--- 1.0946650505065918 seconds ---\n"
          ]
        }
      ]
    },
    {
      "cell_type": "code",
      "source": [
        "start_time = time.time()\n",
        "\n",
        "from pyspark.sql.functions import avg, round\n",
        "\n",
        "# Filter the DataFrame to include only expensive homes (price >= $350,000)\n",
        "expensive_homes_df = home_sales_df.filter(home_sales_df['price'] >= 350000)\n",
        "\n",
        "# Find the average price of expensive homes per view rating\n",
        "average_price_per_view_rating = expensive_homes_df.groupBy('view').agg(round(avg('price'), 2).alias('average_price'))\n",
        "\n",
        "# Display the result\n",
        "average_price_per_view_rating.show()\n",
        "\n",
        "print(\"--- %s seconds ---\" % (time.time() - start_time)"
      ],
      "metadata": {
        "colab": {
          "base_uri": "https://localhost:8080/",
          "height": 111
        },
        "id": "PIUb3t-SsOyo",
        "outputId": "efff7f98-8d1e-4980-b140-a2c307bfa5e2"
      },
      "execution_count": 1,
      "outputs": [
        {
          "output_type": "error",
          "ename": "SyntaxError",
          "evalue": "incomplete input (<ipython-input-1-c30f20ec5781>, line 14)",
          "traceback": [
            "\u001b[0;36m  File \u001b[0;32m\"<ipython-input-1-c30f20ec5781>\"\u001b[0;36m, line \u001b[0;32m14\u001b[0m\n\u001b[0;31m    print(\"--- %s seconds ---\" % (time.time() - start_time)\u001b[0m\n\u001b[0m                                                           ^\u001b[0m\n\u001b[0;31mSyntaxError\u001b[0m\u001b[0;31m:\u001b[0m incomplete input\n"
          ]
        }
      ]
    },
    {
      "cell_type": "code",
      "source": [
        "# 10. Partition by the \"date_built\" field on the formatted parquet home sales data\n",
        "\n",
        "home_sales_df.write.partitionBy(\"date_built\").parquet(\"partitioned_home_sales_data\")"
      ],
      "metadata": {
        "id": "tAGpK24zlya9"
      },
      "execution_count": null,
      "outputs": []
    },
    {
      "cell_type": "code",
      "source": [
        "#11. Read the formatted parquet data.\n",
        "partitioned_parquet_data = spark.read.parquet(\"partitioned_home_sales_data\")"
      ],
      "metadata": {
        "id": "XZVnOJVOlz4r"
      },
      "execution_count": null,
      "outputs": []
    },
    {
      "cell_type": "code",
      "source": [
        "# 12. Create a temporary table for the parquet data.\n",
        "partitioned_parquet_data.createOrReplaceTempView(\"partitioned_home_sales_temp_view\")\n"
      ],
      "metadata": {
        "id": "z_PRCgr6l2MH"
      },
      "execution_count": null,
      "outputs": []
    },
    {
      "cell_type": "code",
      "source": [
        "# 13. Using the parquet DataFrame, run the last query above, that calculates\n",
        "# the average price of a home per \"view\" rating, rounded to two decimal places,\n",
        "# having an average home price greater than or equal to $350,000.\n",
        "# Determine the runtime and compare it to the cached runtime\n",
        "\n",
        "start_time = time.time()\n",
        "\n",
        "from pyspark.sql.functions import avg, round\n",
        "\n",
        "# Filter the DataFrame to include only expensive homes (price >= $350,000)\n",
        "expensive_homes_df = home_sales_df.filter(home_sales_df['price'] >= 350000)\n",
        "\n",
        "# Find the average price of expensive homes per view rating\n",
        "average_price_per_view_rating = expensive_homes_df.groupBy('view').agg(round(avg('price'), 2).alias('average_price'))\n",
        "\n",
        "# Display the result\n",
        "average_price_per_view_rating.show()\n",
        "\n",
        "print(\"--- %s seconds ---\" % (time.time() - start_time))\n"
      ],
      "metadata": {
        "colab": {
          "base_uri": "https://localhost:8080/"
        },
        "id": "4dRflwGvvbkr",
        "outputId": "d415c63d-99ac-465d-8562-5d9cd88e7857"
      },
      "execution_count": 17,
      "outputs": [
        {
          "output_type": "stream",
          "name": "stdout",
          "text": [
            "+----+-------------+\n",
            "|view|average_price|\n",
            "+----+-------------+\n",
            "|  31|    399856.95|\n",
            "|  85|   1056336.74|\n",
            "|  65|    736679.93|\n",
            "|  53|     755214.8|\n",
            "|  78|   1080649.37|\n",
            "|  34|    401419.75|\n",
            "|  81|   1053472.79|\n",
            "|  28|    402124.62|\n",
            "|  76|   1058802.78|\n",
            "|  26|    401506.97|\n",
            "|  27|    399537.66|\n",
            "|  44|    400598.05|\n",
            "|  12|    401501.32|\n",
            "|  91|   1137372.73|\n",
            "|  22|    402022.68|\n",
            "|  93|   1026006.06|\n",
            "|  47|     398447.5|\n",
            "|   1|    401044.25|\n",
            "|  52|    733780.26|\n",
            "|  13|    398917.98|\n",
            "+----+-------------+\n",
            "only showing top 20 rows\n",
            "\n",
            "--- 0.7924187183380127 seconds ---\n"
          ]
        }
      ]
    },
    {
      "cell_type": "code",
      "source": [
        "# 14. Uncache the home_sales temporary table.\n",
        "\n",
        "home_sales_df.unpersist()"
      ],
      "metadata": {
        "id": "jPoL0ughl5Cm",
        "colab": {
          "base_uri": "https://localhost:8080/"
        },
        "outputId": "3033e797-366f-45cb-8e24-ae4ecacfd9e8"
      },
      "execution_count": null,
      "outputs": [
        {
          "output_type": "execute_result",
          "data": {
            "text/plain": [
              "DataFrame[id: string, date: date, date_built: int, price: int, bedrooms: int, bathrooms: int, sqft_living: int, sqft_lot: int, floors: int, waterfront: int, view: int]"
            ]
          },
          "metadata": {},
          "execution_count": 23
        }
      ]
    },
    {
      "cell_type": "code",
      "source": [
        "# 15. Check if the home_sales is no longer cached\n",
        "\n",
        "is_cached = home_sales_df.is_cached\n",
        "if not is_cached:\n",
        "    print(\"not cached\")\n",
        "else:\n",
        "    print(\"cached\")"
      ],
      "metadata": {
        "id": "vBwE9CbHl6JO",
        "colab": {
          "base_uri": "https://localhost:8080/"
        },
        "outputId": "4f2fe37b-99a2-472d-beef-8f475f51b8ce"
      },
      "execution_count": null,
      "outputs": [
        {
          "output_type": "stream",
          "name": "stdout",
          "text": [
            "not cached\n"
          ]
        }
      ]
    },
    {
      "cell_type": "code",
      "source": [],
      "metadata": {
        "id": "zjb4DTizl7ha"
      },
      "execution_count": null,
      "outputs": []
    }
  ],
  "metadata": {
    "colab": {
      "provenance": [],
      "authorship_tag": "ABX9TyOWhF0VswdP0CJ32y4hFm9/",
      "include_colab_link": true
    },
    "kernelspec": {
      "display_name": "Python 3",
      "name": "python3"
    },
    "language_info": {
      "name": "python"
    }
  },
  "nbformat": 4,
  "nbformat_minor": 0
}