{
  "cells": [
    {
      "cell_type": "markdown",
      "metadata": {
        "id": "view-in-github",
        "colab_type": "text"
      },
      "source": [
        "<a href=\"https://colab.research.google.com/github/brysoncar/Home_Sales/blob/main/Home_Sales.ipynb\" target=\"_parent\"><img src=\"https://colab.research.google.com/assets/colab-badge.svg\" alt=\"Open In Colab\"/></a>"
      ]
    },
    {
      "cell_type": "code",
      "execution_count": null,
      "metadata": {
        "id": "5yhp23fZA5Ob",
        "colab": {
          "base_uri": "https://localhost:8080/"
        },
        "outputId": "3beae5b9-2420-4372-95dc-a52193f259ba"
      },
      "outputs": [
        {
          "output_type": "stream",
          "name": "stdout",
          "text": [
            "Collecting pyspark\n",
            "  Downloading pyspark-3.5.0.tar.gz (316.9 MB)\n",
            "\u001b[2K     \u001b[90m━━━━━━━━━━━━━━━━━━━━━━━━━━━━━━━━━━━━━━━━\u001b[0m \u001b[32m316.9/316.9 MB\u001b[0m \u001b[31m4.0 MB/s\u001b[0m eta \u001b[36m0:00:00\u001b[0m\n",
            "\u001b[?25h  Preparing metadata (setup.py) ... \u001b[?25l\u001b[?25hdone\n",
            "Requirement already satisfied: py4j==0.10.9.7 in /usr/local/lib/python3.10/dist-packages (from pyspark) (0.10.9.7)\n",
            "Building wheels for collected packages: pyspark\n",
            "  Building wheel for pyspark (setup.py) ... \u001b[?25l\u001b[?25hdone\n",
            "  Created wheel for pyspark: filename=pyspark-3.5.0-py2.py3-none-any.whl size=317425345 sha256=3fd666306b52807526b6517a092844c696d7628a1576460492e0a7c06d8a13c2\n",
            "  Stored in directory: /root/.cache/pip/wheels/41/4e/10/c2cf2467f71c678cfc8a6b9ac9241e5e44a01940da8fbb17fc\n",
            "Successfully built pyspark\n",
            "Installing collected packages: pyspark\n",
            "Successfully installed pyspark-3.5.0\n"
          ]
        }
      ],
      "source": [
        "pip install pyspark"
      ]
    },
    {
      "cell_type": "code",
      "source": [
        "pip install findspark"
      ],
      "metadata": {
        "colab": {
          "base_uri": "https://localhost:8080/"
        },
        "id": "KilfWNSdjw6P",
        "outputId": "957496d0-daab-492b-a227-1122f401e201"
      },
      "execution_count": null,
      "outputs": [
        {
          "output_type": "stream",
          "name": "stdout",
          "text": [
            "Collecting findspark\n",
            "  Downloading findspark-2.0.1-py2.py3-none-any.whl (4.4 kB)\n",
            "Installing collected packages: findspark\n",
            "Successfully installed findspark-2.0.1\n"
          ]
        }
      ]
    },
    {
      "cell_type": "code",
      "source": [
        "# Import findspark and initialize.\n",
        "import findspark\n",
        "findspark.init()"
      ],
      "metadata": {
        "id": "iHm919BljwX5"
      },
      "execution_count": null,
      "outputs": []
    },
    {
      "cell_type": "code",
      "execution_count": null,
      "metadata": {
        "id": "R0t1msGMcMGv"
      },
      "outputs": [],
      "source": [
        "# Import packages\n",
        "from pyspark.sql import SparkSession\n",
        "import time\n",
        "\n",
        "# Create a SparkSession\n",
        "spark = SparkSession.builder.appName(\"SparkSQL\").getOrCreate()"
      ]
    },
    {
      "cell_type": "code",
      "execution_count": null,
      "metadata": {
        "id": "LBS4ScvxcM6v",
        "colab": {
          "base_uri": "https://localhost:8080/"
        },
        "outputId": "9e98a433-0226-4e03-e87b-74f9f9fd3fca"
      },
      "outputs": [
        {
          "output_type": "stream",
          "name": "stdout",
          "text": [
            "+--------------------+----------+----------+------+--------+---------+-----------+--------+------+----------+----+\n",
            "|                  id|      date|date_built| price|bedrooms|bathrooms|sqft_living|sqft_lot|floors|waterfront|view|\n",
            "+--------------------+----------+----------+------+--------+---------+-----------+--------+------+----------+----+\n",
            "|f8a53099-ba1c-47d...|2022-04-08|      2016|936923|       4|        3|       3167|   11733|     2|         1|  76|\n",
            "|7530a2d8-1ae3-451...|2021-06-13|      2013|379628|       2|        2|       2235|   14384|     1|         0|  23|\n",
            "|43de979c-0bf0-4c9...|2019-04-12|      2014|417866|       2|        2|       2127|   10575|     2|         0|   0|\n",
            "|b672c137-b88c-48b...|2019-10-16|      2016|239895|       2|        2|       1631|   11149|     2|         0|   0|\n",
            "|e0726d4d-d595-407...|2022-01-08|      2017|424418|       3|        2|       2249|   13878|     2|         0|   4|\n",
            "|5aa00529-0533-46b...|2019-01-30|      2017|218712|       2|        3|       1965|   14375|     2|         0|   7|\n",
            "|131492a1-72e2-4a8...|2020-02-08|      2017|419199|       2|        3|       2062|    8876|     2|         0|   6|\n",
            "|8d54a71b-c520-44e...|2019-07-21|      2010|323956|       2|        3|       1506|   11816|     1|         0|  25|\n",
            "|e81aacfe-17fe-46b...|2020-06-16|      2016|181925|       3|        3|       2137|   11709|     2|         0|  22|\n",
            "|2ed8d509-7372-46d...|2021-08-06|      2015|258710|       3|        3|       1918|    9666|     1|         0|  25|\n",
            "|f876d86f-3c9f-42b...|2019-02-27|      2011|167864|       3|        3|       2471|   13924|     2|         0|  15|\n",
            "|0a2bd445-8508-4d8...|2021-12-30|      2014|337527|       2|        3|       1926|   12556|     1|         0|  23|\n",
            "|941bad30-eb49-4a7...|2020-05-09|      2015|229896|       3|        3|       2197|    8641|     1|         0|   3|\n",
            "|dd61eb34-6589-4c0...|2021-07-25|      2016|210247|       3|        2|       1672|   11986|     2|         0|  28|\n",
            "|f1e4cef7-d151-439...|2019-02-01|      2011|398667|       2|        3|       2331|   11356|     1|         0|   7|\n",
            "|ea620c7b-c2f7-4c6...|2021-05-31|      2011|437958|       3|        3|       2356|   11052|     1|         0|  26|\n",
            "|f233cb41-6f33-4b0...|2021-07-18|      2016|437375|       4|        3|       1704|   11721|     2|         0|  34|\n",
            "|c797ca12-52cd-4b1...|2019-06-08|      2015|288650|       2|        3|       2100|   10419|     2|         0|   7|\n",
            "|0cfe57f3-28c2-472...|2019-10-04|      2015|308313|       3|        3|       1960|    9453|     2|         0|   2|\n",
            "|4566cd2a-ac6e-435...|2019-07-15|      2016|177541|       3|        3|       2130|   10517|     2|         0|  25|\n",
            "+--------------------+----------+----------+------+--------+---------+-----------+--------+------+----------+----+\n",
            "only showing top 20 rows\n",
            "\n"
          ]
        }
      ],
      "source": [
        "# 1. Read in the AWS S3 bucket into a DataFrame.\n",
        "from pyspark import SparkFiles\n",
        "url = \"https://2u-data-curriculum-team.s3.amazonaws.com/dataviz-classroom/v1.2/22-big-data/home_sales_revised.csv\"\n",
        "\n",
        "spark.sparkContext.addFile(url)\n",
        "\n",
        "home_sales_df = spark.read.option(\"header\", \"true\").csv(SparkFiles.get(\"home_sales_revised.csv\"), inferSchema=True, sep=',')\n",
        "\n",
        "home_sales_df.show()"
      ]
    },
    {
      "cell_type": "code",
      "execution_count": null,
      "metadata": {
        "id": "sBpGSR3vBVim"
      },
      "outputs": [],
      "source": [
        "# 2. Create a temporary view of the DataFrame.\n",
        "home_sales_df.createOrReplaceTempView(\"home_sales\")"
      ]
    },
    {
      "cell_type": "code",
      "source": [
        "# 3. What is the average price for a four bedroom house sold in each year rounded to two decimal places?\n",
        "\n",
        "from pyspark.sql.functions import avg, round\n",
        "\n",
        "# Filter the DataFrame to include only four-bedroom houses\n",
        "four_bedroom_df = home_sales_df.filter(home_sales_df['bedrooms'] == 4)\n",
        "\n",
        "# Group the filtered DataFrame by date_built and calculate the average price\n",
        "average_price_per_year = four_bedroom_df.groupBy('date_built').agg(round(avg('price'), 2).alias('average_price'))\n",
        "\n",
        "# Display the result\n",
        "average_price_per_year.show()\n"
      ],
      "metadata": {
        "id": "urZKSGUElg5X",
        "colab": {
          "base_uri": "https://localhost:8080/"
        },
        "outputId": "817f7237-d500-4bb9-c928-43f018b557d8"
      },
      "execution_count": null,
      "outputs": [
        {
          "output_type": "stream",
          "name": "stdout",
          "text": [
            "+----------+-------------+\n",
            "|date_built|average_price|\n",
            "+----------+-------------+\n",
            "|      2015|    307908.86|\n",
            "|      2013|    299999.39|\n",
            "|      2014|    299073.89|\n",
            "|      2012|    298233.42|\n",
            "|      2016|    296050.24|\n",
            "|      2010|    296800.75|\n",
            "|      2011|     302141.9|\n",
            "|      2017|    296576.69|\n",
            "+----------+-------------+\n",
            "\n"
          ]
        }
      ]
    },
    {
      "cell_type": "code",
      "source": [
        "# 4. What is the average price of a home for each year the home was built that have 3 bedrooms and 3 bathrooms rounded to two decimal places?\n",
        "\n",
        "# Filter the DataFrame to include only homes with 3 bedrooms and 3 bathrooms\n",
        "three_bedroom_three_bathroom_df = home_sales_df.filter((home_sales_df['bedrooms'] == 3) & (home_sales_df['bathrooms'] == 3))\n",
        "\n",
        "# Group the filtered DataFrame by date_built and calculate the average price\n",
        "average_price_per_year = three_bedroom_three_bathroom_df.groupBy('date_built').agg(round(avg('price'), 2).alias('average_price'))\n",
        "\n",
        "# Display the result\n",
        "average_price_per_year.show()\n",
        "\n"
      ],
      "metadata": {
        "id": "rKAvwSlfloWq",
        "colab": {
          "base_uri": "https://localhost:8080/"
        },
        "outputId": "e6b11352-7055-4685-bbff-ebc4fcf10285"
      },
      "execution_count": null,
      "outputs": [
        {
          "output_type": "stream",
          "name": "stdout",
          "text": [
            "+----------+-------------+\n",
            "|date_built|average_price|\n",
            "+----------+-------------+\n",
            "|      2015|     288770.3|\n",
            "|      2013|    295962.27|\n",
            "|      2014|    290852.27|\n",
            "|      2012|    293683.19|\n",
            "|      2016|    290555.07|\n",
            "|      2010|    292859.62|\n",
            "|      2011|    291117.47|\n",
            "|      2017|    292676.79|\n",
            "+----------+-------------+\n",
            "\n"
          ]
        }
      ]
    },
    {
      "cell_type": "code",
      "source": [
        "#  5. What is the average price of a home for each year built that have 3 bedrooms, 3 bathrooms, with two floors,\n",
        "# and are greater than or equal to 2,000 square feet rounded to two decimal places?\n",
        "\n",
        "# Filter the DataFrame to include only homes with specified criteria\n",
        "filtered_df = home_sales_df.filter((home_sales_df['bedrooms'] == 3) &\n",
        "                                   (home_sales_df['bathrooms'] == 3) &\n",
        "                                   (home_sales_df['floors'] == 2) &\n",
        "                                   (home_sales_df['sqft_living'] >= 2000))\n",
        "\n",
        "# Group the filtered DataFrame by date_built and calculate the average price\n",
        "average_price_per_year = filtered_df.groupBy('date_built').agg(round(avg('price'), 2).alias('average_price'))\n",
        "\n",
        "# Display the result\n",
        "average_price_per_year.show()\n"
      ],
      "metadata": {
        "id": "pNM-ZVa3lp5u",
        "colab": {
          "base_uri": "https://localhost:8080/"
        },
        "outputId": "4cf9f794-dff8-47cc-c368-be2ad0b275b0"
      },
      "execution_count": null,
      "outputs": [
        {
          "output_type": "stream",
          "name": "stdout",
          "text": [
            "+----------+-------------+\n",
            "|date_built|average_price|\n",
            "+----------+-------------+\n",
            "|      2015|    297609.97|\n",
            "|      2013|    303676.79|\n",
            "|      2014|    298264.72|\n",
            "|      2012|    307539.97|\n",
            "|      2016|     293965.1|\n",
            "|      2010|    285010.22|\n",
            "|      2011|    276553.81|\n",
            "|      2017|    280317.58|\n",
            "+----------+-------------+\n",
            "\n"
          ]
        }
      ]
    },
    {
      "cell_type": "code",
      "source": [
        "# 6. What is the \"view\" rating for the average price of a home, rounded to two decimal places, where the homes are greater than\n",
        "# or equal to $350,000? Although this is a small dataset, determine the run time for this query.\n",
        "\n",
        "start_time = time.time()\n",
        "\n",
        "from pyspark.sql.functions import avg, round\n",
        "\n",
        "# Filter the DataFrame to include only expensive homes (price >= $350,000)\n",
        "expensive_homes_df = home_sales_df.filter(home_sales_df['price'] >= 350000)\n",
        "\n",
        "# Find the average price of expensive homes\n",
        "average_price_expensive_homes = expensive_homes_df.groupBy('date_built').agg(round(avg('price'), 2).alias('average_price'))\n",
        "\n",
        "# Find the \"view\" rating for the average price of expensive homes\n",
        "view_rating_for_average_price = average_price_expensive_homes.select(round(avg('average_price'), 2).alias('view_rating'))\n",
        "\n",
        "# Display the result\n",
        "view_rating_for_average_price.show()\n",
        "\n",
        "\n",
        "print(\"--- %s seconds ---\" % (time.time() - start_time))"
      ],
      "metadata": {
        "id": "IpXa11FIlrLu",
        "colab": {
          "base_uri": "https://localhost:8080/"
        },
        "outputId": "456c5495-2e04-4e7c-f8a9-5e15f6550186"
      },
      "execution_count": null,
      "outputs": [
        {
          "output_type": "stream",
          "name": "stdout",
          "text": [
            "+-----------+\n",
            "|view_rating|\n",
            "+-----------+\n",
            "|  473769.11|\n",
            "+-----------+\n",
            "\n",
            "--- 1.0499975681304932 seconds ---\n"
          ]
        }
      ]
    },
    {
      "cell_type": "code",
      "source": [
        "# Importing necessary functions\n",
        "from pyspark.sql.functions import count\n",
        "\n",
        "# Performing value count on the 'view' column\n",
        "view_counts = home_sales_df.groupBy('view').agg(count('*').alias('count'))\n",
        "\n",
        "# Displaying the result\n",
        "view_counts.show()"
      ],
      "metadata": {
        "colab": {
          "base_uri": "https://localhost:8080/"
        },
        "id": "hFAOsNdbjar9",
        "outputId": "8f382041-09d2-4424-dfba-b3ec92d308a1"
      },
      "execution_count": null,
      "outputs": [
        {
          "output_type": "stream",
          "name": "stdout",
          "text": [
            "+----+-----+\n",
            "|view|count|\n",
            "+----+-----+\n",
            "|  31|  607|\n",
            "|  85|   39|\n",
            "|  65|   15|\n",
            "|  53|   20|\n",
            "|  78|   30|\n",
            "|  34|  652|\n",
            "|  81|   33|\n",
            "|  28|  624|\n",
            "|  76|   36|\n",
            "|  26|  662|\n",
            "|  27|  597|\n",
            "|  44|  639|\n",
            "|  12|  589|\n",
            "|  91|   41|\n",
            "|  22|  602|\n",
            "|  93|   33|\n",
            "|  47|  648|\n",
            "|   1|  645|\n",
            "|  52|   23|\n",
            "|  13|  603|\n",
            "+----+-----+\n",
            "only showing top 20 rows\n",
            "\n"
          ]
        }
      ]
    },
    {
      "cell_type": "code",
      "source": [
        "# 7. Cache the the temporary table home_sales.\n",
        "spark.catalog.cacheTable(\"home_sales\")"
      ],
      "metadata": {
        "id": "6UE-Bu8zltAV"
      },
      "execution_count": null,
      "outputs": []
    },
    {
      "cell_type": "code",
      "source": [
        "# 8. Check if the table is cached.\n",
        "spark.catalog.isCached('home_sales')"
      ],
      "metadata": {
        "id": "SrRqy0Ztluz5",
        "colab": {
          "base_uri": "https://localhost:8080/"
        },
        "outputId": "2c4b8a47-7f5b-4eee-b2a5-41ede0378237"
      },
      "execution_count": null,
      "outputs": [
        {
          "output_type": "execute_result",
          "data": {
            "text/plain": [
              "True"
            ]
          },
          "metadata": {},
          "execution_count": 14
        }
      ]
    },
    {
      "cell_type": "code",
      "source": [
        "# 9. Using the cached data, run the query that filters out the view ratings with average price\n",
        "#  greater than or equal to $350,000. Determine the runtime and compare it to uncached runtime.\n",
        "\n",
        "start_time = time.time()\n",
        "\n",
        "from pyspark.sql.functions import avg, round\n",
        "\n",
        "# Filter the DataFrame to include only expensive homes (price >= $350,000)\n",
        "expensive_homes_df = home_sales_df.filter(home_sales_df['price'] >= 350000)\n",
        "\n",
        "# Find the average price of expensive homes\n",
        "average_price_expensive_homes = expensive_homes_df.groupBy('date_built').agg(round(avg('price'), 2).alias('average_price'))\n",
        "\n",
        "# Find the \"view\" rating for the average price of expensive homes\n",
        "view_rating_for_average_price = average_price_expensive_homes.select(round(avg('average_price'), 2).alias('view_rating'))\n",
        "\n",
        "# Display the result\n",
        "view_rating_for_average_price.show()\n",
        "\n",
        "# Display the result\n",
        "\n",
        "print(\"--- %s seconds ---\" % (time.time() - start_time))"
      ],
      "metadata": {
        "id": "0mqpZY4HlwR_",
        "colab": {
          "base_uri": "https://localhost:8080/"
        },
        "outputId": "2c16f47e-8428-4a7a-c38a-28ffd5109341"
      },
      "execution_count": null,
      "outputs": [
        {
          "output_type": "stream",
          "name": "stdout",
          "text": [
            "+-----------+\n",
            "|view_rating|\n",
            "+-----------+\n",
            "|  473769.11|\n",
            "+-----------+\n",
            "\n",
            "--- 1.0788516998291016 seconds ---\n"
          ]
        }
      ]
    },
    {
      "cell_type": "code",
      "source": [
        "# 10. Partition by the \"date_built\" field on the formatted parquet home sales data\n",
        "\n",
        "home_sales_df.write.partitionBy(\"date_built\").parquet(\"partitioned_home_sales_data\")"
      ],
      "metadata": {
        "id": "tAGpK24zlya9"
      },
      "execution_count": null,
      "outputs": []
    },
    {
      "cell_type": "code",
      "source": [
        "#11. Read the formatted parquet data.\n",
        "partitioned_parquet_data = spark.read.parquet(\"partitioned_home_sales_data\")"
      ],
      "metadata": {
        "id": "XZVnOJVOlz4r"
      },
      "execution_count": null,
      "outputs": []
    },
    {
      "cell_type": "code",
      "source": [
        "# 12. Create a temporary table for the parquet data.\n",
        "partitioned_parquet_data.createOrReplaceTempView(\"partitioned_home_sales_temp_view\")\n"
      ],
      "metadata": {
        "id": "z_PRCgr6l2MH"
      },
      "execution_count": null,
      "outputs": []
    },
    {
      "cell_type": "code",
      "source": [
        "# 13. Run the query that filters out the view ratings with average price of greater than or eqaul to $350,000\n",
        "# with the parquet DataFrame. Round your average to two decimal places.\n",
        "# Determine the runtime and compare it to the cached version.\n",
        "\n",
        "start_time = time.time()\n",
        "\n",
        "from pyspark.sql.functions import avg, round\n",
        "\n",
        "# Filter the DataFrame to include only expensive homes (price >= $350,000)\n",
        "expensive_homes_df = home_sales_df.filter(home_sales_df['price'] >= 350000)\n",
        "\n",
        "# Find the average price of expensive homes\n",
        "average_price_expensive_homes = expensive_homes_df.groupBy('date_built').agg(round(avg('price'), 2).alias('average_price'))\n",
        "\n",
        "# Find the \"view\" rating for the average price of expensive homes\n",
        "view_rating_for_average_price = average_price_expensive_homes.select(round(avg('average_price'), 2).alias('view_rating'))\n",
        "\n",
        "# Display the result\n",
        "view_rating_for_average_price.show()\n",
        "\n",
        "print(\"--- %s seconds ---\" % (time.time() - start_time))"
      ],
      "metadata": {
        "id": "Gm-Av8Kkl3dQ",
        "colab": {
          "base_uri": "https://localhost:8080/"
        },
        "outputId": "89ff7d36-35a1-4806-dc42-a38118693487"
      },
      "execution_count": null,
      "outputs": [
        {
          "output_type": "stream",
          "name": "stdout",
          "text": [
            "+-----------+\n",
            "|view_rating|\n",
            "+-----------+\n",
            "|  473769.11|\n",
            "+-----------+\n",
            "\n",
            "--- 0.5548255443572998 seconds ---\n"
          ]
        }
      ]
    },
    {
      "cell_type": "code",
      "source": [
        "# 14. Uncache the home_sales temporary table.\n",
        "\n",
        "home_sales_df.unpersist()"
      ],
      "metadata": {
        "id": "jPoL0ughl5Cm",
        "colab": {
          "base_uri": "https://localhost:8080/"
        },
        "outputId": "3033e797-366f-45cb-8e24-ae4ecacfd9e8"
      },
      "execution_count": null,
      "outputs": [
        {
          "output_type": "execute_result",
          "data": {
            "text/plain": [
              "DataFrame[id: string, date: date, date_built: int, price: int, bedrooms: int, bathrooms: int, sqft_living: int, sqft_lot: int, floors: int, waterfront: int, view: int]"
            ]
          },
          "metadata": {},
          "execution_count": 23
        }
      ]
    },
    {
      "cell_type": "code",
      "source": [
        "# 15. Check if the home_sales is no longer cached\n",
        "\n",
        "is_cached = home_sales_df.is_cached\n",
        "if not is_cached:\n",
        "    print(\"not cached\")\n",
        "else:\n",
        "    print(\"cached\")"
      ],
      "metadata": {
        "id": "vBwE9CbHl6JO",
        "colab": {
          "base_uri": "https://localhost:8080/"
        },
        "outputId": "4f2fe37b-99a2-472d-beef-8f475f51b8ce"
      },
      "execution_count": null,
      "outputs": [
        {
          "output_type": "stream",
          "name": "stdout",
          "text": [
            "not cached\n"
          ]
        }
      ]
    },
    {
      "cell_type": "code",
      "source": [],
      "metadata": {
        "id": "zjb4DTizl7ha"
      },
      "execution_count": null,
      "outputs": []
    }
  ],
  "metadata": {
    "colab": {
      "provenance": [],
      "authorship_tag": "ABX9TyOsFY/I/NQkF1MsMgWw6wxD",
      "include_colab_link": true
    },
    "kernelspec": {
      "display_name": "Python 3",
      "name": "python3"
    },
    "language_info": {
      "name": "python"
    }
  },
  "nbformat": 4,
  "nbformat_minor": 0
}